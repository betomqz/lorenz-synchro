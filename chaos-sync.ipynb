{
 "cells": [
  {
   "cell_type": "code",
   "execution_count": 1,
   "id": "985ae3fe",
   "metadata": {},
   "outputs": [],
   "source": [
    "using DifferentialEquations\n",
    "using Plots\n",
    "using LaTeXStrings"
   ]
  },
  {
   "cell_type": "code",
   "execution_count": 2,
   "id": "50bd8ddc",
   "metadata": {},
   "outputs": [
    {
     "data": {
      "text/plain": [
       "sist1! (generic function with 1 method)"
      ]
     },
     "execution_count": 2,
     "metadata": {},
     "output_type": "execute_result"
    }
   ],
   "source": [
    "function sist1!(du,u,p,t)\n",
    "    a,b,c = p\n",
    "    du[1] = a*(u[2]-u[1])\n",
    "    du[2] = u[1]*(b-u[3]) - u[2]\n",
    "    du[3] = u[1]*u[2] - c*u[3]\n",
    "end"
   ]
  },
  {
   "cell_type": "code",
   "execution_count": 3,
   "id": "0267aff0",
   "metadata": {},
   "outputs": [
    {
     "data": {
      "text/plain": [
       "sist2! (generic function with 1 method)"
      ]
     },
     "execution_count": 3,
     "metadata": {},
     "output_type": "execute_result"
    }
   ],
   "source": [
    " # Ojo, aquí, u[1] es y, u[2] es z.\n",
    "function sist2!(du,u,p,t)\n",
    "    u1, b, c = p    \n",
    "    x = u1(t)  # Access the value of u[1] at time t\n",
    "    du[1] = x*(b-u[2]) - u[1]\n",
    "    du[2] = x*u[1] - c*u[2]\n",
    "end"
   ]
  },
  {
   "cell_type": "code",
   "execution_count": 4,
   "id": "4ecd5eef",
   "metadata": {},
   "outputs": [
    {
     "data": {
      "text/plain": [
       "3-element Vector{Float64}:\n",
       " 0.6\n",
       " 0.5\n",
       " 0.1"
      ]
     },
     "execution_count": 4,
     "metadata": {},
     "output_type": "execute_result"
    }
   ],
   "source": [
    "# Parámetros a usar\n",
    "p = [10,28,8/3]\n",
    "\n",
    "# Definir el rango de tiempo\n",
    "tspan = (0.0, 50.0)\n",
    "\n",
    "# Condición inicial\n",
    "x0 = 0.6\n",
    "y0 = 0.5\n",
    "z0 = 0.1\n",
    "u0 = [x0,y0,z0]"
   ]
  },
  {
   "cell_type": "code",
   "execution_count": 10,
   "id": "23260c51",
   "metadata": {},
   "outputs": [
    {
     "data": {
      "text/plain": [
       "\"D:\\\\OneDrive\\\\Documentos\\\\ITAM\\\\09-semestre\\\\sist-dinam\\\\julia\\\\lorenz1.pdf\""
      ]
     },
     "execution_count": 10,
     "metadata": {},
     "output_type": "execute_result"
    }
   ],
   "source": [
    "# Solución del primer sistema\n",
    "problema = ODEProblem(sist1!, u0, tspan, p)\n",
    "sol1 = solve(problema, Tsit5())\n",
    "    \n",
    "# La gráfica que nos dio el profesor\n",
    "plot(sol1,idxs=(1,2,3), xlabel=L\"x\", ylabel=L\"y\", zlabel=L\"z\", label=\"\")\n",
    "scatter!([x0],[y0],[z0], color=:red, markersize=5,\n",
    "    markerstrokewidth=0, label=\"\")\n",
    "savefig(\"lorenz1.pdf\")"
   ]
  },
  {
   "cell_type": "code",
   "execution_count": 11,
   "id": "8fe41eb0",
   "metadata": {},
   "outputs": [
    {
     "data": {
      "text/plain": [
       "retcode: Success\n",
       "Interpolation: specialized 4th order \"free\" interpolation\n",
       "t: 493-element Vector{Float64}:\n",
       "  0.0\n",
       "  0.07426325968931985\n",
       "  0.14216932886995257\n",
       "  0.2251870301281051\n",
       "  0.29715767905475343\n",
       "  0.366934930931345\n",
       "  0.42325239041168466\n",
       "  0.48127791887201243\n",
       "  0.5298988802525262\n",
       "  0.5901426227718415\n",
       "  0.6601354040327705\n",
       "  0.7427156613018866\n",
       "  0.8429576830843037\n",
       "  ⋮\n",
       " 48.99956053090265\n",
       " 49.08750854745539\n",
       " 49.18013814970213\n",
       " 49.25828094968857\n",
       " 49.37628271591914\n",
       " 49.53354356638516\n",
       " 49.65131060103677\n",
       " 49.739329201669676\n",
       " 49.81894020547541\n",
       " 49.89666687372772\n",
       " 49.96146186667955\n",
       " 50.0\n",
       "u: 493-element Vector{Vector{Float64}}:\n",
       " [5.5, 10.1]\n",
       " [6.048339965119488, 8.558889005850824]\n",
       " [7.456331016830846, 7.72200383012326]\n",
       " [12.17990234106228, 8.671415185888959]\n",
       " [20.181370499048075, 15.827650747874275]\n",
       " [21.337281770149207, 35.07698744809434]\n",
       " [5.8949719175725575, 44.61186596019319]\n",
       " [-5.836807654952605, 37.72291872209589]\n",
       " [-7.508718237467519, 31.279303000766873]\n",
       " [-7.171778588291377, 26.775629931734013]\n",
       " [-7.5126567979198615, 24.239589065476796]\n",
       " [-9.153515403914279, 23.464292494669927]\n",
       " [-11.19077129361048, 25.17843412890779]\n",
       " ⋮\n",
       " [-13.291123734725824, 34.27995599058718]\n",
       " [-3.944150378513169, 35.319691176397505]\n",
       " [-0.6516573026527656, 28.698510198968805]\n",
       " [-1.0901728971671765, 23.496106578209677]\n",
       " [-2.922777657730797, 17.604574153854923]\n",
       " [-9.097743375241029, 14.376348529529853]\n",
       " [-17.55744857604299, 22.544693557248323]\n",
       " [-13.911933927449274, 36.03572962846822]\n",
       " [-3.089994443008211, 36.98597751542883]\n",
       " [0.7564459813734906, 30.47191878900959]\n",
       " [0.7504174322498011, 25.45687803140356]\n",
       " [0.4666422204650822, 22.929619393899618]"
      ]
     },
     "execution_count": 11,
     "metadata": {},
     "output_type": "execute_result"
    }
   ],
   "source": [
    "# Usaremos la solución del primer sistema para resolver el segundo\n",
    "p2 = (t -> sol1(t)[1], p[2], p[3])\n",
    "\n",
    "# Nótese la nueva condición inicial\n",
    "problema2 = ODEProblem(sist2!, [u0[2]+5, u0[3]+10], tspan, p2)\n",
    "sol2 = solve(problema2, Tsit5())"
   ]
  },
  {
   "cell_type": "code",
   "execution_count": 13,
   "id": "deffcca6",
   "metadata": {},
   "outputs": [
    {
     "data": {
      "text/plain": [
       "\"D:\\\\OneDrive\\\\Documentos\\\\ITAM\\\\09-semestre\\\\sist-dinam\\\\julia\\\\lorenz2.pdf\""
      ]
     },
     "execution_count": 13,
     "metadata": {},
     "output_type": "execute_result"
    }
   ],
   "source": [
    "# Hagamos ahora una gráfica de las variables y vs z para el primer sistema.\n",
    "plot(sol1, idxs=(2, 3), label=\"\")\n",
    "plot!(sol2, idxs=(1, 2), label=\"\", color=\"red\")\n",
    "xlabel!(L\"y\")\n",
    "ylabel!(L\"z\")\n",
    "savefig(\"lorenz2.pdf\")"
   ]
  },
  {
   "cell_type": "code",
   "execution_count": 14,
   "id": "a19c21fa",
   "metadata": {},
   "outputs": [
    {
     "data": {
      "text/plain": [
       "\"D:\\\\OneDrive\\\\Documentos\\\\ITAM\\\\09-semestre\\\\sist-dinam\\\\julia\\\\lorenz3.pdf\""
      ]
     },
     "execution_count": 14,
     "metadata": {},
     "output_type": "execute_result"
    }
   ],
   "source": [
    "# Ahora veremos la componente z\n",
    "plot(sol1, idxs=(0, 3), label=\"\")\n",
    "plot!(sol2, idxs=(0, 2), label=\"\", color=\"red\")\n",
    "xlims!(0.0, 3)\n",
    "xlabel!(L\"t\")\n",
    "ylabel!(L\"z\")\n",
    "savefig(\"lorenz3.pdf\")"
   ]
  },
  {
   "cell_type": "code",
   "execution_count": null,
   "id": "c155ba3e",
   "metadata": {},
   "outputs": [],
   "source": []
  }
 ],
 "metadata": {
  "kernelspec": {
   "display_name": "Julia 1.9.3",
   "language": "julia",
   "name": "julia-1.9"
  },
  "language_info": {
   "file_extension": ".jl",
   "mimetype": "application/julia",
   "name": "julia",
   "version": "1.9.3"
  }
 },
 "nbformat": 4,
 "nbformat_minor": 5
}
